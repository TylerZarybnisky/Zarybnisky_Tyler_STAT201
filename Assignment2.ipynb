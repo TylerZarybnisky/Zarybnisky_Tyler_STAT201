{
 "cells": [
  {
   "cell_type": "raw",
   "metadata": {
    "vscode": {
     "languageId": "raw"
    }
   },
   "source": [
    "---\n",
    "title: \"Assignment 2\"\n",
    "subtitle: \"STAT 201\"\n",
    "author: \"Tyler Zarybnisky\"\n",
    "format:\n",
    "  html:\n",
    "    toc: true\n",
    "    embed-resources: true\n",
    "---"
   ]
  },
  {
   "cell_type": "markdown",
   "metadata": {},
   "source": [
    "### Instructions"
   ]
  },
  {
   "cell_type": "markdown",
   "metadata": {},
   "source": [
    "1. **Write your name** on the assignment.\n",
    "\n",
    "2. Write your code in the *Code* cells of the **template provided** to write solutions for the assignment. **Do not open a new notebook**, and work from scratch. Ensure that the solution is written neatly enough to understand and grade.\n",
    "\n",
    "3. Use [Quarto](https://quarto.org/docs/output-formats/html-basics.html) to print the *.ipynb* file as HTML. You will need to open the command prompt, navigate to the directory containing the file, and use the command: `quarto render filename.ipynb --to html`. Submit the HTML file.\n",
    "\n",
    "4. You may talk to a friend, discuss the questions and potential directions for solving them. However, you need to write your own solutions and code separately, and not as a group activity. Do not use AI to solve the problems.\n",
    "\n",
    "5. There are 2 points for cleanliness and organization. The breakdown is as follows:\n",
    "    - Must be an HTML file rendered using Quarto. \n",
    "    - There aren’t excessively long outputs of extraneous information (e.g. no printouts of unnecessary results without good reason, there aren’t long printouts of which iteration a loop is on, there aren’t long sections of commented-out code, etc.). There is no piece of unnecessary / redundant code, and no unnecessary / redundant text\n",
    "    - The code follows the [python style guide](https://peps.python.org/pep-0008/) for naming variables, spaces, indentation, etc.\n",
    "    - The code should be commented and clearly written with intuitive variable names. For example, use variable names such as number_input, factor, hours, instead of a,b,xyz, etc."
   ]
  },
  {
   "cell_type": "markdown",
   "metadata": {},
   "source": [
    "### Question 1 (3 points)"
   ]
  },
  {
   "cell_type": "markdown",
   "metadata": {},
   "source": [
    "a) Write a program that counts down from 5 and then prints the message \"Go\"."
   ]
  },
  {
   "cell_type": "code",
   "execution_count": 159,
   "metadata": {},
   "outputs": [
    {
     "name": "stdout",
     "output_type": "stream",
     "text": [
      "5 4 3 2 1 Go.\n"
     ]
    }
   ],
   "source": [
    "five_list = []\n",
    "\n",
    "for i in range(5):\n",
    "    five_list.append(i+1)\n",
    "\n",
    "for j in five_list[::-1]:\n",
    "    print(j, end = \" \")\n",
    "\n",
    "print(\"Go.\")"
   ]
  },
  {
   "cell_type": "markdown",
   "metadata": {},
   "source": [
    "b) Write a program that asks the user for an integer, then counts down from that integer and then prints the message \"Go\". Use a try-except to ensure the user entered an integer. If it is not an integer, return the message \"You must enter an integer\". Show the output of the program if the user inputs `3`. "
   ]
  },
  {
   "cell_type": "code",
   "execution_count": 160,
   "metadata": {},
   "outputs": [
    {
     "name": "stdout",
     "output_type": "stream",
     "text": [
      "3 2 1 Go.\n"
     ]
    }
   ],
   "source": [
    "try:\n",
    "    user_input = int(input(\"At what number should the countdown start?\"))\n",
    "    good_input = True\n",
    "except ValueError:\n",
    "    print(\"You must enter an integer.\")\n",
    "    good_input = False\n",
    "\n",
    "user_list = []\n",
    "\n",
    "if good_input == True:\n",
    "    for i in range(user_input):\n",
    "        user_list.append(i+1)\n",
    "\n",
    "    for j in user_list[::-1]:\n",
    "        print(j, end = \" \")\n",
    "\n",
    "    print(\"Go.\")"
   ]
  },
  {
   "cell_type": "markdown",
   "metadata": {},
   "source": [
    "c) Copy and modify part b to allow the user to keep entering input until they correctly enter an integer (ie: don't end after the except). Show the output of the program if the user first inputs `8.9` and then inputs `7`. "
   ]
  },
  {
   "cell_type": "code",
   "execution_count": 161,
   "metadata": {},
   "outputs": [
    {
     "name": "stdout",
     "output_type": "stream",
     "text": [
      "You must enter an integer.\n",
      "7 6 5 4 3 2 1 Go.\n"
     ]
    }
   ],
   "source": [
    "while True:\n",
    "    try:\n",
    "        user_input = int(input(\"At what number should the countdown start?\"))\n",
    "        break\n",
    "    except ValueError:\n",
    "        print(\"You must enter an integer.\")\n",
    "\n",
    "user_list = []\n",
    "\n",
    "for i in range(user_input):\n",
    "    user_list.append(i+1)\n",
    "\n",
    "for j in user_list[::-1]:\n",
    "    print(j, end = \" \")\n",
    "\n",
    "print(\"Go.\")"
   ]
  },
  {
   "cell_type": "markdown",
   "metadata": {},
   "source": [
    "### Question 2 (2 points)"
   ]
  },
  {
   "cell_type": "markdown",
   "metadata": {},
   "source": [
    "Print a star formation as follows:\n",
    "\n",
    "                                             * \n",
    "                                             * * \n",
    "                                             * * * \n",
    "                                             * * * * \n",
    "                                             \n",
    "Ask the user to input the height of the formation first. For example, 4 should return the formation above. Show the output of the program if the user inputs `5`. "
   ]
  },
  {
   "cell_type": "code",
   "execution_count": 162,
   "metadata": {},
   "outputs": [
    {
     "name": "stdout",
     "output_type": "stream",
     "text": [
      "*\n",
      "**\n",
      "***\n",
      "****\n",
      "*****\n"
     ]
    }
   ],
   "source": [
    "while True:\n",
    "    try:\n",
    "        user_input = int(input(\"How tall should the formation be?\"))\n",
    "        break\n",
    "    except ValueError:\n",
    "        print(\"You must enter an integer.\")\n",
    "\n",
    "for j in range(1, user_input+1):\n",
    "    print(\"*\" * j)"
   ]
  },
  {
   "cell_type": "markdown",
   "metadata": {},
   "source": [
    "### Question 3 (6 points)"
   ]
  },
  {
   "cell_type": "markdown",
   "metadata": {},
   "source": [
    "a) Write a program where you play 3 \"Rock, Paper, Scissors\" games against the computer. Simulate a random choice for the computer each game and ask the user to enter either rock, paper, or scissors. Print the number of times the user won out of 3 games. Show the output of the program after playing the game. \n",
    "\n",
    "Recall: rock beats scissors; scissors beats paper; paper beats rock.\n",
    "\n",
    "Example:\n",
    "\n",
    "                                    \"You won <num_win> out of 3 games.\""
   ]
  },
  {
   "cell_type": "code",
   "execution_count": 163,
   "metadata": {},
   "outputs": [
    {
     "name": "stdout",
     "output_type": "stream",
     "text": [
      "You won 1 out of 3 games.\n",
      "The sequence of events were as follows:\n",
      "rock beats scissors; rock ties rock; paper beats rock."
     ]
    }
   ],
   "source": [
    "# import the random function and name the alias rm\n",
    "import random as rm\n",
    "\n",
    "num_win = 0\n",
    "recall_list = []\n",
    "\n",
    "for j in range (0, 3):\n",
    "    comp_choice = rm.choice(['rock', 'paper', 'scissors'])\n",
    "    while True:\n",
    "        try:\n",
    "            user_choice = input(\"Input either 'rock', 'paper', or 'scissors'\").strip()\n",
    "            if user_choice.lower() == \"rock\" or user_choice.lower() == \"paper\" or user_choice.lower() == \"scissors\":\n",
    "                break\n",
    "            else:\n",
    "                raise ValueError\n",
    "        except ValueError:        \n",
    "            print(\"Invalid choice.\")\n",
    "\n",
    "    if comp_choice == \"rock\" and user_choice.lower() == \"scissors\":\n",
    "        recall_list += [\"rock beats scissors\"]\n",
    "    elif comp_choice == \"rock\" and user_choice.lower() == \"paper\":\n",
    "        recall_list += [\"paper beats rock\"]\n",
    "        num_win += 1\n",
    "    elif comp_choice == \"paper\" and user_choice.lower() == \"rock\":\n",
    "        recall_list += [\"paper beats rock\"]\n",
    "    elif comp_choice == \"paper\" and user_choice.lower() == \"scissors\":\n",
    "        recall_list += [\"scissors beats paper\"]\n",
    "        num_win += 1\n",
    "    elif comp_choice == \"scissors\" and user_choice.lower() == \"rock\":\n",
    "        recall_list += [\"rock beats scissors\"]\n",
    "        num_win += 1\n",
    "    elif comp_choice == \"scissors\" and user_choice.lower() == \"paper\":\n",
    "        recall_list += [\"scissors beats paper\"]\n",
    "    else:\n",
    "        recall_list += [f\"{user_choice} ties {user_choice}\"]\n",
    "\n",
    "print(f\"You won {num_win} out of 3 games.\")\n",
    "print(\"The sequence of events were as follows:\")\n",
    "for j in range (0, 3):\n",
    "    if j < 2:\n",
    "        print(recall_list[j], end = \"; \")\n",
    "    else:\n",
    "        print(recall_list[j], end = \".\")"
   ]
  },
  {
   "cell_type": "markdown",
   "metadata": {},
   "source": [
    "b) Write a program where you play \"Rock, Paper, Scissors\" games against the computer until you have won 3 games. Simulate a random choice for the computer each game and ask the user to enter either rock, paper, or scissors. Print the number of games it took to win 3 times. Show the output of the program after playing the game.\n",
    "\n",
    "Example:\n",
    "\n",
    "                                    \"You won 3 out of <num_games> games.\""
   ]
  },
  {
   "cell_type": "code",
   "execution_count": 164,
   "metadata": {},
   "outputs": [
    {
     "name": "stdout",
     "output_type": "stream",
     "text": [
      "You won 3 out of 5 games.\n",
      "The sequence of events were as follows:\n",
      "paper beats rock; rock beats scissors; rock beats scissors; rock ties rock; rock beats scissors."
     ]
    }
   ],
   "source": [
    "import random as rm\n",
    "\n",
    "user_win = 0\n",
    "comp_win = 0\n",
    "ties = 0\n",
    "recall_list = []\n",
    "\n",
    "while user_win < 3:\n",
    "    comp_choice = rm.choice(['rock', 'paper', 'scissors'])\n",
    "    while True:\n",
    "        try:\n",
    "            user_choice = input(\"Input either 'rock', 'paper', or 'scissors'\").strip()\n",
    "            if user_choice.lower() == \"rock\" or user_choice.lower() == \"paper\" or user_choice.lower() == \"scissors\":\n",
    "                break\n",
    "            else:\n",
    "                raise ValueError\n",
    "        except ValueError:        \n",
    "            print(\"Invalid choice.\")\n",
    "\n",
    "    if comp_choice == \"rock\" and user_choice.lower() == \"scissors\":\n",
    "        recall_list += [\"rock beats scissors\"]\n",
    "        comp_win += 1\n",
    "    elif comp_choice == \"rock\" and user_choice.lower() == \"paper\":\n",
    "        recall_list += [\"paper beats rock\"]\n",
    "        user_win += 1\n",
    "    elif comp_choice == \"paper\" and user_choice.lower() == \"rock\":\n",
    "        recall_list += [\"paper beats rock\"]\n",
    "        comp_win += 1\n",
    "    elif comp_choice == \"paper\" and user_choice.lower() == \"scissors\":\n",
    "        recall_list += [\"scissors beats paper\"]\n",
    "        user_win += 1\n",
    "    elif comp_choice == \"scissors\" and user_choice.lower() == \"rock\":\n",
    "        recall_list += [\"rock beats scissors\"]\n",
    "        user_win += 1\n",
    "    elif comp_choice == \"scissors\" and user_choice.lower() == \"paper\":\n",
    "        recall_list += [\"scissors beats paper\"]\n",
    "        comp_win += 1\n",
    "    else:\n",
    "        recall_list += [f\"{user_choice} ties {user_choice}\"]\n",
    "        ties += 1\n",
    "\n",
    "tot_games = user_win + comp_win + ties\n",
    "\n",
    "print(f\"You won 3 out of {tot_games} games.\")\n",
    "print(\"The sequence of events were as follows:\")\n",
    "for j in range (0, tot_games):\n",
    "    if j < (tot_games-1):\n",
    "        print(recall_list[j], end = \"; \")\n",
    "    else:\n",
    "        print(recall_list[j], end = \".\")"
   ]
  },
  {
   "cell_type": "markdown",
   "metadata": {},
   "source": [
    "### Question 4 (6 points)"
   ]
  },
  {
   "cell_type": "markdown",
   "metadata": {},
   "source": [
    "a) Write a program (loop) that prints all the factors of a positive integer input by the user. A factor is any positive integer that divides the number and leaves no remainder. Show the output of the program if the user inputs `24`. \n",
    "\n",
    "Example: The factors of 8 are 1, 2, 4, 8."
   ]
  },
  {
   "cell_type": "code",
   "execution_count": 165,
   "metadata": {},
   "outputs": [
    {
     "name": "stdout",
     "output_type": "stream",
     "text": [
      "The factors of 24 are 1, 2, 3, 4, 6, 8, 12, 24."
     ]
    }
   ],
   "source": [
    "while True:\n",
    "    try:\n",
    "        user_input = int(input(\"What number do you want to find the factors of?\"))\n",
    "        if user_input < 0:\n",
    "            print(\"You must enter a positive integer.\")\n",
    "        if user_input >= 0:\n",
    "            break\n",
    "    except ValueError:\n",
    "        print(\"You must enter an integer.\")\n",
    "\n",
    "factor_list = []\n",
    "\n",
    "for j in range(1, user_input+1):\n",
    "    if user_input % j == 0:\n",
    "        factor_list.append(j)\n",
    "\n",
    "print(f\"The factors of {user_input} are 1\", *factor_list[1:], sep = \", \", end = \".\")"
   ]
  },
  {
   "cell_type": "markdown",
   "metadata": {},
   "source": [
    "b) Write a **function** called `number_of_factors` that takes an integer and returns how many factors the number has. Run your function with `24` to check if it works."
   ]
  },
  {
   "cell_type": "code",
   "execution_count": 166,
   "metadata": {},
   "outputs": [
    {
     "name": "stdout",
     "output_type": "stream",
     "text": [
      "24 has 8 factors.\n"
     ]
    }
   ],
   "source": [
    "while True:\n",
    "    try:\n",
    "        user_input = int(input(\"What number do you want to find the factors of?\"))\n",
    "        if user_input < 0:\n",
    "            print(\"You must enter a positive integer.\")\n",
    "        if user_input >= 0:\n",
    "            break\n",
    "    except ValueError:\n",
    "        print(\"You must enter an integer.\")\n",
    "\n",
    "def number_of_factors(input_number):\n",
    "    factor_list = []\n",
    "\n",
    "    for j in range(1, user_input+1):\n",
    "        if user_input % j == 0:\n",
    "            factor_list.append(j)\n",
    "    return len(factor_list)\n",
    "\n",
    "print(f\"{user_input} has {number_of_factors(user_input)} factors.\")"
   ]
  },
  {
   "cell_type": "markdown",
   "metadata": {},
   "source": [
    "### Question 5 (6 points)"
   ]
  },
  {
   "cell_type": "markdown",
   "metadata": {},
   "source": [
    "a) Write a program (loop) that identifies whether a positive integer input by the user is prime or not. A prime number is a number whose only divisors are 1 and itself. Show the output when the program is used to check if `89` is prime or not."
   ]
  },
  {
   "cell_type": "code",
   "execution_count": 3,
   "metadata": {},
   "outputs": [
    {
     "name": "stdout",
     "output_type": "stream",
     "text": [
      "You must enter a positive integer.\n",
      "The number 1 is prime.\n"
     ]
    }
   ],
   "source": [
    "while True:\n",
    "    try:\n",
    "        user_input = int(input(\"What number do you want to check the primeness of?\"))\n",
    "        if user_input < 0:\n",
    "            print(\"You must enter a positive integer.\")\n",
    "        if user_input >= 0: \n",
    "            break\n",
    "    except ValueError:\n",
    "        print(\"You must enter an integer.\")\n",
    "\n",
    "is_prime = True\n",
    "\n",
    "for i in range(2, user_input):\n",
    "    if user_input % i == 0:\n",
    "        is_prime = False\n",
    "\n",
    "if is_prime == False:\n",
    "    print(f\"The number {user_input} is not prime.\")\n",
    "else:\n",
    "    print(f\"The number {user_input} is prime.\")"
   ]
  },
  {
   "cell_type": "markdown",
   "metadata": {},
   "source": [
    "b) Write a **function** that checks if a positive integer is prime or not. It should take one integer input and return a boolean. Run your function with `197` to check if it works."
   ]
  },
  {
   "cell_type": "code",
   "execution_count": 168,
   "metadata": {},
   "outputs": [
    {
     "data": {
      "text/plain": [
       "True"
      ]
     },
     "execution_count": 168,
     "metadata": {},
     "output_type": "execute_result"
    }
   ],
   "source": [
    "while True:\n",
    "    try:\n",
    "        user_input = int(input(\"What number do you want to check the primeness of?\"))\n",
    "        if user_input < 0:\n",
    "            print(\"You must enter a positive integer.\")\n",
    "        if user_input >= 0: \n",
    "            break\n",
    "    except ValueError:\n",
    "        print(\"You must enter an integer.\")\n",
    "\n",
    "def prime_check(input_int):\n",
    "    bool_prime = True\n",
    "    for i in range(2, input_int-1):\n",
    "        if input_int % i == 0:\n",
    "            bool_prime = False\n",
    "    return bool_prime\n",
    "\n",
    "prime_check(user_input)"
   ]
  },
  {
   "cell_type": "markdown",
   "metadata": {},
   "source": [
    "### Question 6 (4 points)"
   ]
  },
  {
   "cell_type": "markdown",
   "metadata": {},
   "source": [
    "Write a function that calculates the area of a rectangle. The function should have an input for length (in inches) and width (in inches). And have 2 ouputs: the area in terms of square inches and the area in terms of square feet. There are 12 inches in 1 foot. Run your function with a length of 102 inches and width of 60 inches to check if it works."
   ]
  },
  {
   "cell_type": "code",
   "execution_count": 169,
   "metadata": {},
   "outputs": [
    {
     "name": "stdout",
     "output_type": "stream",
     "text": [
      "The area is 6120.0 square inches.\n",
      "The area is 42.5 square feet.\n"
     ]
    }
   ],
   "source": [
    "while True:\n",
    "    try:\n",
    "        length = float(input(\"What is the length of your rectangle?\"))\n",
    "        if length < 0:\n",
    "            print(\"You must enter a positive number.\")\n",
    "        if length >= 0: \n",
    "            break\n",
    "    except ValueError:\n",
    "        print(\"You must enter a number.\")\n",
    "\n",
    "while True:\n",
    "    try:\n",
    "        width = int(input(\"What is the width of your rectangle?\"))\n",
    "        if width < 0:\n",
    "            print(\"You must enter a positive number.\")\n",
    "        if width >= 0: \n",
    "            break\n",
    "    except ValueError:\n",
    "        print(\"You must enter a number.\")\n",
    "\n",
    "print(f\"The area is {length * width} square inches.\")\n",
    "print(f\"The area is {(length/12) * (width/12)} square feet.\")"
   ]
  },
  {
   "cell_type": "markdown",
   "metadata": {},
   "source": [
    "### Question 7 (3 points)"
   ]
  },
  {
   "cell_type": "markdown",
   "metadata": {},
   "source": [
    "Write a function that takes a word and a sentence as two string inputs and returns the number of times the word occurs in the sentence as the output.\n",
    "\n",
    "Run your function with **\"sea\"** and **“Sea shells are on the sea shore when the sea is calm.”** inputs to check if it works. Your function should work for any word and sentence. \n",
    "\n",
    "Note: at this time it does not have to differentiate a distinct word just if it appears in any form. Example: **“The sea gives me nausea.”** would return 2."
   ]
  },
  {
   "cell_type": "code",
   "execution_count": 174,
   "metadata": {},
   "outputs": [
    {
     "data": {
      "text/plain": [
       "3"
      ]
     },
     "execution_count": 174,
     "metadata": {},
     "output_type": "execute_result"
    }
   ],
   "source": [
    "word_input = \"\"\n",
    "sentence_input = \"\"\n",
    "\n",
    "def word_count(word_input, sentence_input):\n",
    "    counter = 0\n",
    "    for j in range(len(sentence_input)-len(word_input)+1):\n",
    "        if sentence_input[j : j+len(word_input)] == word_input:\n",
    "            counter += 1\n",
    "    return counter\n",
    "\n",
    "word_count(\"sea\", \"sea shells are on the sea shore when the sea is calm\")"
   ]
  }
 ],
 "metadata": {
  "kernelspec": {
   "display_name": "Python 3",
   "language": "python",
   "name": "python3"
  },
  "language_info": {
   "codemirror_mode": {
    "name": "ipython",
    "version": 3
   },
   "file_extension": ".py",
   "mimetype": "text/x-python",
   "name": "python",
   "nbconvert_exporter": "python",
   "pygments_lexer": "ipython3",
   "version": "3.13.2"
  }
 },
 "nbformat": 4,
 "nbformat_minor": 4
}
